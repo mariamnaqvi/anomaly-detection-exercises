{
 "cells": [
  {
   "cell_type": "code",
   "execution_count": 47,
   "metadata": {},
   "outputs": [],
   "source": [
    "# imports\n",
    "\n",
    "import numpy as np\n",
    "import pandas as pd\n",
    "import matplotlib.pyplot as plt\n",
    "import seaborn as sns"
   ]
  },
  {
   "cell_type": "markdown",
   "metadata": {},
   "source": [
    "### Define a function named get_lower_and_upper_bounds that has two arguments. The first argument is a pandas Series. The second argument is the multiplier, which should have a default argument of 1.5."
   ]
  },
  {
   "cell_type": "code",
   "execution_count": 48,
   "metadata": {},
   "outputs": [],
   "source": [
    "def get_lower_and_upper_bounds(col, multiplier = 1.5):\n",
    "    '''\n",
    "    This function takes in a pandas Series and multiplier for IQR (default is 1.5).\n",
    "    It returns the lower and upper bounds.\n",
    "    '''\n",
    "    q1 = col.quantile(0.25)\n",
    "    q3 = col.quantile(0.75)\n",
    "    iqr = q3 - q1\n",
    "    inner_lower_fence = round(q1 - (multiplier * iqr), 3)\n",
    "    inner_upper_fence = round(q3 + (multiplier * iqr), 3)\n",
    "    \n",
    "    return inner_lower_fence, inner_upper_fence\n"
   ]
  },
  {
   "cell_type": "markdown",
   "metadata": {},
   "source": [
    "### 1. Using lemonade.csv dataset and focusing on continuous variables"
   ]
  },
  {
   "cell_type": "code",
   "execution_count": 49,
   "metadata": {},
   "outputs": [],
   "source": [
    "url = 'https://gist.githubusercontent.com/ryanorsinger/19bc7eccd6279661bd13307026628ace/raw/e4b5d6787015a4782f96cad6d1d62a8bdbac54c7/lemonade.csv'"
   ]
  },
  {
   "cell_type": "code",
   "execution_count": 3,
   "metadata": {},
   "outputs": [],
   "source": [
    "df = pd.read_csv(url)"
   ]
  },
  {
   "cell_type": "code",
   "execution_count": 4,
   "metadata": {},
   "outputs": [
    {
     "data": {
      "text/html": [
       "<div>\n",
       "<style scoped>\n",
       "    .dataframe tbody tr th:only-of-type {\n",
       "        vertical-align: middle;\n",
       "    }\n",
       "\n",
       "    .dataframe tbody tr th {\n",
       "        vertical-align: top;\n",
       "    }\n",
       "\n",
       "    .dataframe thead th {\n",
       "        text-align: right;\n",
       "    }\n",
       "</style>\n",
       "<table border=\"1\" class=\"dataframe\">\n",
       "  <thead>\n",
       "    <tr style=\"text-align: right;\">\n",
       "      <th></th>\n",
       "      <th>Date</th>\n",
       "      <th>Day</th>\n",
       "      <th>Temperature</th>\n",
       "      <th>Rainfall</th>\n",
       "      <th>Flyers</th>\n",
       "      <th>Price</th>\n",
       "      <th>Sales</th>\n",
       "    </tr>\n",
       "  </thead>\n",
       "  <tbody>\n",
       "    <tr>\n",
       "      <th>0</th>\n",
       "      <td>1/1/17</td>\n",
       "      <td>Sunday</td>\n",
       "      <td>27.0</td>\n",
       "      <td>2.00</td>\n",
       "      <td>15</td>\n",
       "      <td>0.5</td>\n",
       "      <td>10</td>\n",
       "    </tr>\n",
       "    <tr>\n",
       "      <th>1</th>\n",
       "      <td>1/2/17</td>\n",
       "      <td>Monday</td>\n",
       "      <td>28.9</td>\n",
       "      <td>1.33</td>\n",
       "      <td>15</td>\n",
       "      <td>0.5</td>\n",
       "      <td>13</td>\n",
       "    </tr>\n",
       "    <tr>\n",
       "      <th>2</th>\n",
       "      <td>1/3/17</td>\n",
       "      <td>Tuesday</td>\n",
       "      <td>34.5</td>\n",
       "      <td>1.33</td>\n",
       "      <td>27</td>\n",
       "      <td>0.5</td>\n",
       "      <td>15</td>\n",
       "    </tr>\n",
       "    <tr>\n",
       "      <th>3</th>\n",
       "      <td>1/4/17</td>\n",
       "      <td>Wednesday</td>\n",
       "      <td>44.1</td>\n",
       "      <td>1.05</td>\n",
       "      <td>28</td>\n",
       "      <td>0.5</td>\n",
       "      <td>17</td>\n",
       "    </tr>\n",
       "    <tr>\n",
       "      <th>4</th>\n",
       "      <td>1/5/17</td>\n",
       "      <td>Thursday</td>\n",
       "      <td>42.4</td>\n",
       "      <td>1.00</td>\n",
       "      <td>33</td>\n",
       "      <td>0.5</td>\n",
       "      <td>18</td>\n",
       "    </tr>\n",
       "  </tbody>\n",
       "</table>\n",
       "</div>"
      ],
      "text/plain": [
       "     Date        Day  Temperature  Rainfall  Flyers  Price  Sales\n",
       "0  1/1/17     Sunday         27.0      2.00      15    0.5     10\n",
       "1  1/2/17     Monday         28.9      1.33      15    0.5     13\n",
       "2  1/3/17    Tuesday         34.5      1.33      27    0.5     15\n",
       "3  1/4/17  Wednesday         44.1      1.05      28    0.5     17\n",
       "4  1/5/17   Thursday         42.4      1.00      33    0.5     18"
      ]
     },
     "execution_count": 4,
     "metadata": {},
     "output_type": "execute_result"
    }
   ],
   "source": [
    "df.head()"
   ]
  },
  {
   "cell_type": "code",
   "execution_count": 50,
   "metadata": {},
   "outputs": [
    {
     "name": "stdout",
     "output_type": "stream",
     "text": [
      "<class 'pandas.core.frame.DataFrame'>\n",
      "RangeIndex: 365 entries, 0 to 364\n",
      "Data columns (total 7 columns):\n",
      " #   Column       Non-Null Count  Dtype  \n",
      "---  ------       --------------  -----  \n",
      " 0   Date         365 non-null    object \n",
      " 1   Day          365 non-null    object \n",
      " 2   Temperature  365 non-null    float64\n",
      " 3   Rainfall     365 non-null    float64\n",
      " 4   Flyers       365 non-null    int64  \n",
      " 5   Price        365 non-null    float64\n",
      " 6   Sales        365 non-null    int64  \n",
      "dtypes: float64(3), int64(2), object(2)\n",
      "memory usage: 20.1+ KB\n"
     ]
    }
   ],
   "source": [
    "df.info()"
   ]
  },
  {
   "cell_type": "code",
   "execution_count": 51,
   "metadata": {},
   "outputs": [],
   "source": [
    "# change date to a datetime object and set as index\n",
    "\n",
    "df.Date = pd.to_datetime(df.Date)\n"
   ]
  },
  {
   "cell_type": "code",
   "execution_count": 52,
   "metadata": {},
   "outputs": [],
   "source": [
    "df = df.set_index('Date')"
   ]
  },
  {
   "cell_type": "code",
   "execution_count": 53,
   "metadata": {},
   "outputs": [
    {
     "data": {
      "text/html": [
       "<div>\n",
       "<style scoped>\n",
       "    .dataframe tbody tr th:only-of-type {\n",
       "        vertical-align: middle;\n",
       "    }\n",
       "\n",
       "    .dataframe tbody tr th {\n",
       "        vertical-align: top;\n",
       "    }\n",
       "\n",
       "    .dataframe thead th {\n",
       "        text-align: right;\n",
       "    }\n",
       "</style>\n",
       "<table border=\"1\" class=\"dataframe\">\n",
       "  <thead>\n",
       "    <tr style=\"text-align: right;\">\n",
       "      <th></th>\n",
       "      <th>Day</th>\n",
       "      <th>Temperature</th>\n",
       "      <th>Rainfall</th>\n",
       "      <th>Flyers</th>\n",
       "      <th>Price</th>\n",
       "      <th>Sales</th>\n",
       "    </tr>\n",
       "    <tr>\n",
       "      <th>Date</th>\n",
       "      <th></th>\n",
       "      <th></th>\n",
       "      <th></th>\n",
       "      <th></th>\n",
       "      <th></th>\n",
       "      <th></th>\n",
       "    </tr>\n",
       "  </thead>\n",
       "  <tbody>\n",
       "    <tr>\n",
       "      <th>2017-01-01</th>\n",
       "      <td>Sunday</td>\n",
       "      <td>27.0</td>\n",
       "      <td>2.00</td>\n",
       "      <td>15</td>\n",
       "      <td>0.5</td>\n",
       "      <td>10</td>\n",
       "    </tr>\n",
       "    <tr>\n",
       "      <th>2017-01-02</th>\n",
       "      <td>Monday</td>\n",
       "      <td>28.9</td>\n",
       "      <td>1.33</td>\n",
       "      <td>15</td>\n",
       "      <td>0.5</td>\n",
       "      <td>13</td>\n",
       "    </tr>\n",
       "    <tr>\n",
       "      <th>2017-01-03</th>\n",
       "      <td>Tuesday</td>\n",
       "      <td>34.5</td>\n",
       "      <td>1.33</td>\n",
       "      <td>27</td>\n",
       "      <td>0.5</td>\n",
       "      <td>15</td>\n",
       "    </tr>\n",
       "    <tr>\n",
       "      <th>2017-01-04</th>\n",
       "      <td>Wednesday</td>\n",
       "      <td>44.1</td>\n",
       "      <td>1.05</td>\n",
       "      <td>28</td>\n",
       "      <td>0.5</td>\n",
       "      <td>17</td>\n",
       "    </tr>\n",
       "    <tr>\n",
       "      <th>2017-01-05</th>\n",
       "      <td>Thursday</td>\n",
       "      <td>42.4</td>\n",
       "      <td>1.00</td>\n",
       "      <td>33</td>\n",
       "      <td>0.5</td>\n",
       "      <td>18</td>\n",
       "    </tr>\n",
       "  </tbody>\n",
       "</table>\n",
       "</div>"
      ],
      "text/plain": [
       "                  Day  Temperature  Rainfall  Flyers  Price  Sales\n",
       "Date                                                              \n",
       "2017-01-01     Sunday         27.0      2.00      15    0.5     10\n",
       "2017-01-02     Monday         28.9      1.33      15    0.5     13\n",
       "2017-01-03    Tuesday         34.5      1.33      27    0.5     15\n",
       "2017-01-04  Wednesday         44.1      1.05      28    0.5     17\n",
       "2017-01-05   Thursday         42.4      1.00      33    0.5     18"
      ]
     },
     "execution_count": 53,
     "metadata": {},
     "output_type": "execute_result"
    }
   ],
   "source": [
    "# check df now \n",
    "\n",
    "df.head()"
   ]
  },
  {
   "cell_type": "code",
   "execution_count": 54,
   "metadata": {},
   "outputs": [],
   "source": [
    "# since we have a day of the week column, let's also create a month column\n",
    "\n",
    "df['Month'] = df.index.month_name()\n",
    "\n",
    "# month_name will give string values of the month names"
   ]
  },
  {
   "cell_type": "code",
   "execution_count": 55,
   "metadata": {},
   "outputs": [
    {
     "data": {
      "text/html": [
       "<div>\n",
       "<style scoped>\n",
       "    .dataframe tbody tr th:only-of-type {\n",
       "        vertical-align: middle;\n",
       "    }\n",
       "\n",
       "    .dataframe tbody tr th {\n",
       "        vertical-align: top;\n",
       "    }\n",
       "\n",
       "    .dataframe thead th {\n",
       "        text-align: right;\n",
       "    }\n",
       "</style>\n",
       "<table border=\"1\" class=\"dataframe\">\n",
       "  <thead>\n",
       "    <tr style=\"text-align: right;\">\n",
       "      <th></th>\n",
       "      <th>Day</th>\n",
       "      <th>Temperature</th>\n",
       "      <th>Rainfall</th>\n",
       "      <th>Flyers</th>\n",
       "      <th>Price</th>\n",
       "      <th>Sales</th>\n",
       "      <th>Month</th>\n",
       "    </tr>\n",
       "    <tr>\n",
       "      <th>Date</th>\n",
       "      <th></th>\n",
       "      <th></th>\n",
       "      <th></th>\n",
       "      <th></th>\n",
       "      <th></th>\n",
       "      <th></th>\n",
       "      <th></th>\n",
       "    </tr>\n",
       "  </thead>\n",
       "  <tbody>\n",
       "    <tr>\n",
       "      <th>2017-01-01</th>\n",
       "      <td>Sunday</td>\n",
       "      <td>27.0</td>\n",
       "      <td>2.00</td>\n",
       "      <td>15</td>\n",
       "      <td>0.5</td>\n",
       "      <td>10</td>\n",
       "      <td>January</td>\n",
       "    </tr>\n",
       "    <tr>\n",
       "      <th>2017-01-02</th>\n",
       "      <td>Monday</td>\n",
       "      <td>28.9</td>\n",
       "      <td>1.33</td>\n",
       "      <td>15</td>\n",
       "      <td>0.5</td>\n",
       "      <td>13</td>\n",
       "      <td>January</td>\n",
       "    </tr>\n",
       "    <tr>\n",
       "      <th>2017-01-03</th>\n",
       "      <td>Tuesday</td>\n",
       "      <td>34.5</td>\n",
       "      <td>1.33</td>\n",
       "      <td>27</td>\n",
       "      <td>0.5</td>\n",
       "      <td>15</td>\n",
       "      <td>January</td>\n",
       "    </tr>\n",
       "    <tr>\n",
       "      <th>2017-01-04</th>\n",
       "      <td>Wednesday</td>\n",
       "      <td>44.1</td>\n",
       "      <td>1.05</td>\n",
       "      <td>28</td>\n",
       "      <td>0.5</td>\n",
       "      <td>17</td>\n",
       "      <td>January</td>\n",
       "    </tr>\n",
       "    <tr>\n",
       "      <th>2017-01-05</th>\n",
       "      <td>Thursday</td>\n",
       "      <td>42.4</td>\n",
       "      <td>1.00</td>\n",
       "      <td>33</td>\n",
       "      <td>0.5</td>\n",
       "      <td>18</td>\n",
       "      <td>January</td>\n",
       "    </tr>\n",
       "  </tbody>\n",
       "</table>\n",
       "</div>"
      ],
      "text/plain": [
       "                  Day  Temperature  Rainfall  Flyers  Price  Sales    Month\n",
       "Date                                                                       \n",
       "2017-01-01     Sunday         27.0      2.00      15    0.5     10  January\n",
       "2017-01-02     Monday         28.9      1.33      15    0.5     13  January\n",
       "2017-01-03    Tuesday         34.5      1.33      27    0.5     15  January\n",
       "2017-01-04  Wednesday         44.1      1.05      28    0.5     17  January\n",
       "2017-01-05   Thursday         42.4      1.00      33    0.5     18  January"
      ]
     },
     "execution_count": 55,
     "metadata": {},
     "output_type": "execute_result"
    }
   ],
   "source": [
    "df.head()"
   ]
  },
  {
   "cell_type": "code",
   "execution_count": 56,
   "metadata": {},
   "outputs": [
    {
     "data": {
      "text/html": [
       "<div>\n",
       "<style scoped>\n",
       "    .dataframe tbody tr th:only-of-type {\n",
       "        vertical-align: middle;\n",
       "    }\n",
       "\n",
       "    .dataframe tbody tr th {\n",
       "        vertical-align: top;\n",
       "    }\n",
       "\n",
       "    .dataframe thead th {\n",
       "        text-align: right;\n",
       "    }\n",
       "</style>\n",
       "<table border=\"1\" class=\"dataframe\">\n",
       "  <thead>\n",
       "    <tr style=\"text-align: right;\">\n",
       "      <th></th>\n",
       "      <th>Temperature</th>\n",
       "      <th>Rainfall</th>\n",
       "      <th>Flyers</th>\n",
       "      <th>Price</th>\n",
       "      <th>Sales</th>\n",
       "    </tr>\n",
       "  </thead>\n",
       "  <tbody>\n",
       "    <tr>\n",
       "      <th>count</th>\n",
       "      <td>365.000000</td>\n",
       "      <td>365.000000</td>\n",
       "      <td>365.000000</td>\n",
       "      <td>365.0</td>\n",
       "      <td>365.000000</td>\n",
       "    </tr>\n",
       "    <tr>\n",
       "      <th>mean</th>\n",
       "      <td>61.224658</td>\n",
       "      <td>0.825973</td>\n",
       "      <td>40.104110</td>\n",
       "      <td>0.5</td>\n",
       "      <td>27.865753</td>\n",
       "    </tr>\n",
       "    <tr>\n",
       "      <th>std</th>\n",
       "      <td>18.085892</td>\n",
       "      <td>0.273890</td>\n",
       "      <td>13.786445</td>\n",
       "      <td>0.0</td>\n",
       "      <td>30.948132</td>\n",
       "    </tr>\n",
       "    <tr>\n",
       "      <th>min</th>\n",
       "      <td>15.100000</td>\n",
       "      <td>0.400000</td>\n",
       "      <td>-38.000000</td>\n",
       "      <td>0.5</td>\n",
       "      <td>7.000000</td>\n",
       "    </tr>\n",
       "    <tr>\n",
       "      <th>25%</th>\n",
       "      <td>49.700000</td>\n",
       "      <td>0.650000</td>\n",
       "      <td>31.000000</td>\n",
       "      <td>0.5</td>\n",
       "      <td>20.000000</td>\n",
       "    </tr>\n",
       "    <tr>\n",
       "      <th>50%</th>\n",
       "      <td>61.100000</td>\n",
       "      <td>0.740000</td>\n",
       "      <td>39.000000</td>\n",
       "      <td>0.5</td>\n",
       "      <td>25.000000</td>\n",
       "    </tr>\n",
       "    <tr>\n",
       "      <th>75%</th>\n",
       "      <td>71.700000</td>\n",
       "      <td>0.910000</td>\n",
       "      <td>49.000000</td>\n",
       "      <td>0.5</td>\n",
       "      <td>30.000000</td>\n",
       "    </tr>\n",
       "    <tr>\n",
       "      <th>max</th>\n",
       "      <td>212.000000</td>\n",
       "      <td>2.500000</td>\n",
       "      <td>80.000000</td>\n",
       "      <td>0.5</td>\n",
       "      <td>534.000000</td>\n",
       "    </tr>\n",
       "  </tbody>\n",
       "</table>\n",
       "</div>"
      ],
      "text/plain": [
       "       Temperature    Rainfall      Flyers  Price       Sales\n",
       "count   365.000000  365.000000  365.000000  365.0  365.000000\n",
       "mean     61.224658    0.825973   40.104110    0.5   27.865753\n",
       "std      18.085892    0.273890   13.786445    0.0   30.948132\n",
       "min      15.100000    0.400000  -38.000000    0.5    7.000000\n",
       "25%      49.700000    0.650000   31.000000    0.5   20.000000\n",
       "50%      61.100000    0.740000   39.000000    0.5   25.000000\n",
       "75%      71.700000    0.910000   49.000000    0.5   30.000000\n",
       "max     212.000000    2.500000   80.000000    0.5  534.000000"
      ]
     },
     "execution_count": 56,
     "metadata": {},
     "output_type": "execute_result"
    }
   ],
   "source": [
    "df.describe()"
   ]
  },
  {
   "cell_type": "markdown",
   "metadata": {},
   "source": [
    "### Takeaways\n",
    "\n",
    "- temperature's max of 212 seems really high\n",
    "- min of -38 for flyers is strange too"
   ]
  },
  {
   "cell_type": "code",
   "execution_count": 57,
   "metadata": {},
   "outputs": [
    {
     "data": {
      "text/plain": [
       "<seaborn.axisgrid.PairGrid at 0x7fdc064acd60>"
      ]
     },
     "execution_count": 57,
     "metadata": {},
     "output_type": "execute_result"
    },
    {
     "data": {
      "image/png": "[encoded data removed]",
      "text/plain": [
       "<Figure size 900x900 with 30 Axes>"
      ]
     },
     "metadata": {
      "needs_background": "light"
     },
     "output_type": "display_data"
    }
   ],
   "source": [
    "sns.pairplot(df)"
   ]
  },
  {
   "cell_type": "markdown",
   "metadata": {},
   "source": [
    "- rainfall seems seasonal\n",
    "- temperature changes through the year\n",
    "- negative values for flyers could not be real\n",
    "- sales seems to have some very high extreme values"
   ]
  },
  {
   "cell_type": "code",
   "execution_count": 58,
   "metadata": {},
   "outputs": [
    {
     "data": {
      "image/png": "[encoded data removed]",
      "text/plain": [
       "<Figure size 432x288 with 1 Axes>"
      ]
     },
     "metadata": {
      "needs_background": "light"
     },
     "output_type": "display_data"
    }
   ],
   "source": [
    "plt.scatter(df.Month, df.Temperature)\n",
    "plt.xticks(rotation=90)\n",
    "plt.show()"
   ]
  },
  {
   "cell_type": "markdown",
   "metadata": {},
   "source": [
    "- The data points are not aggregated so it just shows a bunch of values on top of each other\n",
    "- One extreme value for February\n",
    "- We could look into imputing this one value"
   ]
  },
  {
   "cell_type": "markdown",
   "metadata": {},
   "source": [
    "### a. Use the IQR Range Rule and the upper and lower bounds to identify the lower outliers of each column of lemonade.csv, using the multiplier of 1.5. Do these lower outliers make sense?Which outliers should be kept?\n",
    "\n",
    "### b. Use the IQR Range Rule and the upper and lower bounds to identify the upper outliers of each column of lemonade.csv, using the multiplier of 1.5. Do these upper outliers make sense?Which outliers should be kept?"
   ]
  },
  {
   "cell_type": "code",
   "execution_count": 20,
   "metadata": {},
   "outputs": [
    {
     "data": {
      "text/plain": [
       "(16.7, 104.7)"
      ]
     },
     "execution_count": 20,
     "metadata": {},
     "output_type": "execute_result"
    }
   ],
   "source": [
    "get_lower_and_upper_bounds(df.Temperature, multiplier = 1.5)"
   ]
  },
  {
   "cell_type": "code",
   "execution_count": 42,
   "metadata": {},
   "outputs": [],
   "source": [
    "def get_outliers(df, multiplier = 1.5):\n",
    "    for col in df.columns:\n",
    "        if np.issubdtype(df[col].dtype, np.number):\n",
    "            print ([col])\n",
    "            lower, upper = get_lower_and_upper_bounds(df[col], multiplier = multiplier)\n",
    "            print(lower, upper)"
   ]
  },
  {
   "cell_type": "code",
   "execution_count": 43,
   "metadata": {},
   "outputs": [
    {
     "name": "stdout",
     "output_type": "stream",
     "text": [
      "['Temperature']\n",
      "16.7 104.7\n",
      "['Rainfall']\n",
      "0.26 1.3\n",
      "['Flyers']\n",
      "4.0 76.0\n",
      "['Price']\n",
      "0.5 0.5\n",
      "['Sales']\n",
      "5.0 45.0\n"
     ]
    }
   ],
   "source": [
    "get_outliers(df)"
   ]
  },
  {
   "cell_type": "code",
   "execution_count": 65,
   "metadata": {},
   "outputs": [
    {
     "name": "stdout",
     "output_type": "stream",
     "text": [
      " Lower bound for Temperature : 16.7\n",
      " Upper bound for Temperature: 104.7\n",
      "\n",
      "-----------------\n",
      "\n",
      " Lower bound for Rainfall : 0.26\n",
      " Upper bound for Rainfall: 1.3\n",
      "\n",
      "-----------------\n",
      "\n",
      " Lower bound for Flyers : 4.0\n",
      " Upper bound for Flyers: 76.0\n",
      "\n",
      "-----------------\n",
      "\n",
      " Lower bound for Price : 0.5\n",
      " Upper bound for Price: 0.5\n",
      "\n",
      "-----------------\n",
      "\n",
      " Lower bound for Sales : 5.0\n",
      " Upper bound for Sales: 45.0\n",
      "\n",
      "-----------------\n",
      "\n"
     ]
    }
   ],
   "source": [
    "# at a multiplier of 1.5:\n",
    "\n",
    "# initialize empty dictionary\n",
    "outliers = {}\n",
    "for col in df.columns:\n",
    "    if np.issubdtype(df[col].dtype, np.number):\n",
    "        # call function to get upper and lower bounds\n",
    "        lower_bound, upper_bound = get_lower_and_upper_bounds(df[col])\n",
    "        print(f' Lower bound for {col} : {lower_bound}\\n Upper bound for {col}: {upper_bound}\\n')\n",
    "        print('-----------------\\n')\n",
    "        # initialize a dictionary within outliers dictionary for every column\n",
    "        outliers[col] = {}\n",
    "        # create a bounds key for every col's dictionary and add upper and lower bound values\n",
    "        outliers[col]['bounds'] = {'upper': upper_bound, 'lower': lower_bound}\n",
    "        # add a df key for every column and only the part of df above upper and below lower bounds\n",
    "        outliers[col]['df'] = df[(df[col] > upper_bound) | (df[col] < lower_bound)]\n",
    "    \n",
    "    else:\n",
    "        pass"
   ]
  },
  {
   "cell_type": "code",
   "execution_count": 61,
   "metadata": {},
   "outputs": [
    {
     "data": {
      "text/html": [
       "<div>\n",
       "<style scoped>\n",
       "    .dataframe tbody tr th:only-of-type {\n",
       "        vertical-align: middle;\n",
       "    }\n",
       "\n",
       "    .dataframe tbody tr th {\n",
       "        vertical-align: top;\n",
       "    }\n",
       "\n",
       "    .dataframe thead th {\n",
       "        text-align: right;\n",
       "    }\n",
       "</style>\n",
       "<table border=\"1\" class=\"dataframe\">\n",
       "  <thead>\n",
       "    <tr style=\"text-align: right;\">\n",
       "      <th></th>\n",
       "      <th>Day</th>\n",
       "      <th>Temperature</th>\n",
       "      <th>Rainfall</th>\n",
       "      <th>Flyers</th>\n",
       "      <th>Price</th>\n",
       "      <th>Sales</th>\n",
       "      <th>Month</th>\n",
       "    </tr>\n",
       "    <tr>\n",
       "      <th>Date</th>\n",
       "      <th></th>\n",
       "      <th></th>\n",
       "      <th></th>\n",
       "      <th></th>\n",
       "      <th></th>\n",
       "      <th></th>\n",
       "      <th></th>\n",
       "    </tr>\n",
       "  </thead>\n",
       "  <tbody>\n",
       "    <tr>\n",
       "      <th>2017-02-11</th>\n",
       "      <td>Saturday</td>\n",
       "      <td>212.0</td>\n",
       "      <td>0.91</td>\n",
       "      <td>35</td>\n",
       "      <td>0.5</td>\n",
       "      <td>21</td>\n",
       "      <td>February</td>\n",
       "    </tr>\n",
       "    <tr>\n",
       "      <th>2017-12-31</th>\n",
       "      <td>Sunday</td>\n",
       "      <td>15.1</td>\n",
       "      <td>2.50</td>\n",
       "      <td>9</td>\n",
       "      <td>0.5</td>\n",
       "      <td>7</td>\n",
       "      <td>December</td>\n",
       "    </tr>\n",
       "  </tbody>\n",
       "</table>\n",
       "</div>"
      ],
      "text/plain": [
       "                 Day  Temperature  Rainfall  Flyers  Price  Sales     Month\n",
       "Date                                                                       \n",
       "2017-02-11  Saturday        212.0      0.91      35    0.5     21  February\n",
       "2017-12-31    Sunday         15.1      2.50       9    0.5      7  December"
      ]
     },
     "execution_count": 61,
     "metadata": {},
     "output_type": "execute_result"
    }
   ],
   "source": [
    "# in outliers dictionary call temperature dictionary and within that call df key\n",
    "outliers['Temperature']['df']"
   ]
  },
  {
   "cell_type": "code",
   "execution_count": 66,
   "metadata": {},
   "outputs": [
    {
     "name": "stdout",
     "output_type": "stream",
     "text": [
      "\n",
      "~~~~~~~~~~~~~~~~~~~~\n",
      " Temperature :\n",
      "                  Day  Temperature  Rainfall  Flyers  Price  Sales     Month\n",
      "Date                                                                       \n",
      "2017-02-11  Saturday        212.0      0.91      35    0.5     21  February\n",
      "2017-12-31    Sunday         15.1      2.50       9    0.5      7  December\n",
      "\n",
      "~~~~~~~~~~~~~~~~~~~~\n",
      " Rainfall :\n",
      "                   Day  Temperature  Rainfall  Flyers  Price  Sales     Month\n",
      "Date                                                                        \n",
      "2017-01-01     Sunday         27.0      2.00      15    0.5     10   January\n",
      "2017-01-02     Monday         28.9      1.33      15    0.5     13   January\n",
      "2017-01-03    Tuesday         34.5      1.33      27    0.5     15   January\n",
      "2017-01-06     Friday         25.3      1.54      23    0.5     11   January\n",
      "2017-01-07   Saturday         32.9      1.54      19    0.5     13   January\n",
      "2017-01-11  Wednesday         32.6      1.54      23    0.5     12   January\n",
      "2017-01-12   Thursday         38.2      1.33      16    0.5     14   January\n",
      "2017-01-13     Friday         37.5      1.33      19    0.5     15   January\n",
      "2017-01-16     Monday         30.6      1.67      24    0.5     12   January\n",
      "2017-01-17    Tuesday         32.2      1.43      26    0.5     14   January\n",
      "2017-01-20     Friday         31.6      1.43      20    0.5     12   January\n",
      "2017-01-24    Tuesday         28.6      1.54      20    0.5     12   January\n",
      "2017-01-28   Saturday         34.9      1.33      15    0.5     13   January\n",
      "2017-01-29     Sunday         35.2      1.33      27    0.5     14   January\n",
      "2017-12-04     Monday         34.9      1.54      16    0.5     13  December\n",
      "2017-12-05    Tuesday         22.0      1.82      11    0.5     10  December\n",
      "2017-12-09   Saturday         31.2      1.43      19    0.5     14  December\n",
      "2017-12-10     Sunday         31.3      1.82      15    0.5     11  December\n",
      "2017-12-12    Tuesday         33.5      1.33      22    0.5     15  December\n",
      "2017-12-13  Wednesday         32.2      1.43      26    0.5     14  December\n",
      "2017-12-14   Thursday         31.9      1.54      24    0.5     13  December\n",
      "2017-12-17     Sunday         32.2      1.33      16    0.5     14  December\n",
      "2017-12-18     Monday         30.9      1.43      27    0.5     13  December\n",
      "2017-12-21   Thursday         40.5      1.33      23    0.5     15  December\n",
      "2017-12-22     Friday         30.9      1.54      17    0.5     13  December\n",
      "2017-12-26    Tuesday         28.9      1.43      23    0.5     13  December\n",
      "2017-12-30   Saturday         30.9      1.43      22    0.5     13  December\n",
      "2017-12-31     Sunday         15.1      2.50       9    0.5      7  December\n",
      "\n",
      "~~~~~~~~~~~~~~~~~~~~\n",
      " Flyers :\n",
      "                 Day  Temperature  Rainfall  Flyers  Price  Sales     Month\n",
      "Date                                                                      \n",
      "2017-06-16   Friday         99.3      0.47      77    0.5     41      June\n",
      "2017-07-14   Friday         92.0      0.50      80    0.5     40      July\n",
      "2017-11-21  Tuesday         47.0      0.95     -38    0.5     20  November\n",
      "\n",
      "~~~~~~~~~~~~~~~~~~~~\n",
      " Price :\n",
      " Empty DataFrame\n",
      "Columns: [Day, Temperature, Rainfall, Flyers, Price, Sales, Month]\n",
      "Index: []\n",
      "\n",
      "~~~~~~~~~~~~~~~~~~~~\n",
      " Sales :\n",
      "                  Day  Temperature  Rainfall  Flyers  Price  Sales Month\n",
      "Date                                                                   \n",
      "2017-07-01  Saturday        102.9      0.47      59    0.5    143  July\n",
      "2017-07-02    Sunday         93.4      0.51      68    0.5    158  July\n",
      "2017-07-03    Monday         81.5      0.54      68    0.5    235  July\n",
      "2017-07-04   Tuesday         84.2      0.59      49    0.5    534  July\n"
     ]
    },
    {
     "data": {
      "text/plain": [
       "[None, None, None, None, None]"
      ]
     },
     "execution_count": 66,
     "metadata": {},
     "output_type": "execute_result"
    }
   ],
   "source": [
    "# for every column in df print the values in df above and below upper and lower bounds\n",
    "\n",
    "[print('\\n~~~~~~~~~~~~~~~~~~~~\\n', key, ':\\n', outliers[key]['df']) for key in outliers]\n"
   ]
  },
  {
   "cell_type": "markdown",
   "metadata": {},
   "source": [
    "### c. Using the multiplier of 3, IQR Range Rule, and the lower and upper bounds, identify the outliers below the lower bound in each colum of lemonade.csv. Do these lower outliers make sense?Which outliers should be kept?\n",
    "\n",
    "### d. Using the multiplier of 3, IQR Range Rule, and the lower and upper bounds, identify the outliers above the upper_bound in each colum of lemonade.csv. Do these upper outliers make sense? Which outliers should be kept?"
   ]
  },
  {
   "cell_type": "code",
   "execution_count": 44,
   "metadata": {},
   "outputs": [
    {
     "name": "stdout",
     "output_type": "stream",
     "text": [
      "['Temperature']\n",
      "-16.3 137.7\n",
      "['Rainfall']\n",
      "-0.13 1.69\n",
      "['Flyers']\n",
      "-23.0 103.0\n",
      "['Price']\n",
      "0.5 0.5\n",
      "['Sales']\n",
      "-10.0 60.0\n"
     ]
    }
   ],
   "source": [
    "get_outliers(df, multiplier = 3)"
   ]
  },
  {
   "cell_type": "code",
   "execution_count": 67,
   "metadata": {},
   "outputs": [
    {
     "name": "stdout",
     "output_type": "stream",
     "text": [
      " Lower bound for Temperature : -16.3\n",
      " Upper bound for Temperature: 137.7\n",
      "\n",
      "-----------------\n",
      "\n",
      " Lower bound for Rainfall : -0.13\n",
      " Upper bound for Rainfall: 1.69\n",
      "\n",
      "-----------------\n",
      "\n",
      " Lower bound for Flyers : -23.0\n",
      " Upper bound for Flyers: 103.0\n",
      "\n",
      "-----------------\n",
      "\n",
      " Lower bound for Price : 0.5\n",
      " Upper bound for Price: 0.5\n",
      "\n",
      "-----------------\n",
      "\n",
      " Lower bound for Sales : -10.0\n",
      " Upper bound for Sales: 60.0\n",
      "\n",
      "-----------------\n",
      "\n"
     ]
    }
   ],
   "source": [
    "# at a multiplier of 3.0:\n",
    "\n",
    "# initialize empty dictionary\n",
    "outliers = {}\n",
    "for col in df.columns:\n",
    "    if np.issubdtype(df[col].dtype, np.number):\n",
    "        # call function to get upper and lower bounds\n",
    "        lower_bound, upper_bound = get_lower_and_upper_bounds(df[col],multiplier=3 )\n",
    "        print(f' Lower bound for {col} : {lower_bound}\\n Upper bound for {col}: {upper_bound}\\n')\n",
    "        print('-----------------\\n')\n",
    "        # initialize a dictionary within outliers dictionary for every column\n",
    "        outliers[col] = {}\n",
    "        # create a bounds key for every col's dictionary and add upper and lower bound values\n",
    "        outliers[col]['bounds'] = {'upper': upper_bound, 'lower': lower_bound}\n",
    "        # add a df key for every column and only the part of df above upper and below lower bounds\n",
    "        outliers[col]['df'] = df[(df[col] > upper_bound) | (df[col] < lower_bound)]\n",
    "    \n",
    "    else:\n",
    "        pass"
   ]
  },
  {
   "cell_type": "code",
   "execution_count": 69,
   "metadata": {
    "scrolled": true
   },
   "outputs": [
    {
     "name": "stdout",
     "output_type": "stream",
     "text": [
      "\n",
      "~~~~~~~~~~~~~~~~~~~~\n",
      " Temperature :\n",
      "                  Day  Temperature  Rainfall  Flyers  Price  Sales     Month\n",
      "Date                                                                       \n",
      "2017-02-11  Saturday        212.0      0.91      35    0.5     21  February\n",
      "\n",
      "~~~~~~~~~~~~~~~~~~~~\n",
      " Rainfall :\n",
      "                 Day  Temperature  Rainfall  Flyers  Price  Sales     Month\n",
      "Date                                                                      \n",
      "2017-01-01   Sunday         27.0      2.00      15    0.5     10   January\n",
      "2017-12-05  Tuesday         22.0      1.82      11    0.5     10  December\n",
      "2017-12-10   Sunday         31.3      1.82      15    0.5     11  December\n",
      "2017-12-31   Sunday         15.1      2.50       9    0.5      7  December\n",
      "\n",
      "~~~~~~~~~~~~~~~~~~~~\n",
      " Flyers :\n",
      "                 Day  Temperature  Rainfall  Flyers  Price  Sales     Month\n",
      "Date                                                                      \n",
      "2017-11-21  Tuesday         47.0      0.95     -38    0.5     20  November\n",
      "\n",
      "~~~~~~~~~~~~~~~~~~~~\n",
      " Price :\n",
      " Empty DataFrame\n",
      "Columns: [Day, Temperature, Rainfall, Flyers, Price, Sales, Month]\n",
      "Index: []\n",
      "\n",
      "~~~~~~~~~~~~~~~~~~~~\n",
      " Sales :\n",
      "                  Day  Temperature  Rainfall  Flyers  Price  Sales Month\n",
      "Date                                                                   \n",
      "2017-07-01  Saturday        102.9      0.47      59    0.5    143  July\n",
      "2017-07-02    Sunday         93.4      0.51      68    0.5    158  July\n",
      "2017-07-03    Monday         81.5      0.54      68    0.5    235  July\n",
      "2017-07-04   Tuesday         84.2      0.59      49    0.5    534  July\n"
     ]
    },
    {
     "data": {
      "text/plain": [
       "[None, None, None, None, None]"
      ]
     },
     "execution_count": 69,
     "metadata": {},
     "output_type": "execute_result"
    }
   ],
   "source": [
    "[print('\\n~~~~~~~~~~~~~~~~~~~~\\n', key, ':\\n', outliers[key]['df']) for key in outliers]"
   ]
  },
  {
   "cell_type": "markdown",
   "metadata": {},
   "source": [
    "### Takeaways\n",
    "\n",
    "- July 4th has exceptionally high sales, slightly suspect but plausible -- will check context for summer sales\n",
    "- negative flyer value needs to be fixed, does not make logical sense on 2017-11-21\n",
    "- on 2017-02-11 day with exceptionally high temperature is beyond capacity for human survival, probably suspicious\n"
   ]
  },
  {
   "cell_type": "markdown",
   "metadata": {},
   "source": [
    "### 2. Identify if any columns in lemonade.csv are normally distributed. For normally distributed columns:\n",
    "\n",
    "- Use a 2 sigma decision rule to isolate the outliers.\n",
    "    - Do these make sense?\n",
    "    - Should certain outliers be kept or removed?\n"
   ]
  },
  {
   "cell_type": "code",
   "execution_count": 46,
   "metadata": {},
   "outputs": [
    {
     "data": {
      "image/png": "[encoded data removed]",
      "text/plain": [
       "<Figure size 432x288 with 1 Axes>"
      ]
     },
     "metadata": {
      "needs_background": "light"
     },
     "output_type": "display_data"
    },
    {
     "data": {
      "image/png": "[encoded data removed]",
      "text/plain": [
       "<Figure size 432x288 with 1 Axes>"
      ]
     },
     "metadata": {
      "needs_background": "light"
     },
     "output_type": "display_data"
    },
    {
     "data": {
      "image/png": "[encoded data removed]",
      "text/plain": [
       "<Figure size 432x288 with 1 Axes>"
      ]
     },
     "metadata": {
      "needs_background": "light"
     },
     "output_type": "display_data"
    },
    {
     "data": {
      "image/png": "[encoded data removed]",
      "text/plain": [
       "<Figure size 432x288 with 1 Axes>"
      ]
     },
     "metadata": {
      "needs_background": "light"
     },
     "output_type": "display_data"
    },
    {
     "data": {
      "image/png": "[encoded data removed]",
      "text/plain": [
       "<Figure size 432x288 with 1 Axes>"
      ]
     },
     "metadata": {
      "needs_background": "light"
     },
     "output_type": "display_data"
    },
    {
     "data": {
      "image/png": "[encoded data removed]",
      "text/plain": [
       "<Figure size 432x288 with 1 Axes>"
      ]
     },
     "metadata": {
      "needs_background": "light"
     },
     "output_type": "display_data"
    },
    {
     "data": {
      "image/png": "[encoded data removed]",
      "text/plain": [
       "<Figure size 432x288 with 1 Axes>"
      ]
     },
     "metadata": {
      "needs_background": "light"
     },
     "output_type": "display_data"
    },
    {
     "data": {
      "image/png": "[encoded data removed]",
      "text/plain": [
       "<Figure size 432x288 with 1 Axes>"
      ]
     },
     "metadata": {
      "needs_background": "light"
     },
     "output_type": "display_data"
    },
    {
     "data": {
      "image/png": "[encoded data removed]",
      "text/plain": [
       "<Figure size 432x288 with 1 Axes>"
      ]
     },
     "metadata": {
      "needs_background": "light"
     },
     "output_type": "display_data"
    },
    {
     "data": {
      "image/png": "[encoded data removed]",
      "text/plain": [
       "<Figure size 432x288 with 1 Axes>"
      ]
     },
     "metadata": {
      "needs_background": "light"
     },
     "output_type": "display_data"
    }
   ],
   "source": [
    "for col in df.columns:\n",
    "    if np.issubdtype(df[col].dtype, np.number):\n",
    "        df[col].hist()\n",
    "        plt.title(col)\n",
    "        plt.grid(False)\n",
    "        plt.show()\n",
    "        sns.boxplot(data=df, x=col)\n",
    "        plt.show()"
   ]
  },
  {
   "cell_type": "markdown",
   "metadata": {},
   "source": [
    "### Takeaways\n",
    "\n",
    "- Temperature and Flyers are fairly normally distributed\n",
    "- Rainfall also looks fairly normal but has some upper outliers\n",
    "- Flyers might need imputing for the extreme values\n",
    "- Sales seem to all be in the same range \n",
    "    - this can be visualized by increasing the number of bins"
   ]
  },
  {
   "cell_type": "code",
   "execution_count": 70,
   "metadata": {},
   "outputs": [],
   "source": [
    "normal_cols = ['Temperature', 'Flyers', 'Rainfall']"
   ]
  },
  {
   "cell_type": "code",
   "execution_count": 73,
   "metadata": {},
   "outputs": [
    {
     "name": "stdout",
     "output_type": "stream",
     "text": [
      "Temperature\n",
      "                 Day  Temperature  Rainfall  Flyers  Price  Sales     Month  \\\n",
      "Date                                                                          \n",
      "2017-02-11  Saturday        212.0      0.91      35    0.5     21  February   \n",
      "2017-06-16    Friday         99.3      0.47      77    0.5     41      June   \n",
      "2017-06-26    Monday        102.6      0.47      60    0.5     42      June   \n",
      "2017-07-01  Saturday        102.9      0.47      59    0.5    143      July   \n",
      "2017-07-10    Monday         98.0      0.49      66    0.5     40      July   \n",
      "2017-07-18   Tuesday         99.3      0.47      76    0.5     41      July   \n",
      "2017-07-22  Saturday         99.6      0.47      49    0.5     42      July   \n",
      "2017-07-27  Thursday         97.9      0.47      74    0.5     43      July   \n",
      "2017-12-05   Tuesday         22.0      1.82      11    0.5     10  December   \n",
      "2017-12-31    Sunday         15.1      2.50       9    0.5      7  December   \n",
      "\n",
      "            z_score_Temperature  z_score_Flyers  z_score_Rainfall  \n",
      "Date                                                               \n",
      "2017-02-11             8.336627       -0.370227          0.306792  \n",
      "2017-06-16             2.105251        2.676244         -1.299691  \n",
      "2017-06-26             2.287714        1.443149         -1.299691  \n",
      "2017-07-01             2.304301        1.370614         -1.299691  \n",
      "2017-07-10             2.033372        1.878359         -1.226669  \n",
      "2017-07-18             2.105251        2.603709         -1.299691  \n",
      "2017-07-22             2.121838        0.645264         -1.299691  \n",
      "2017-07-27             2.027843        2.458639         -1.299691  \n",
      "2017-12-05            -2.168799       -2.111067          3.629291  \n",
      "2017-12-31            -2.550311       -2.256137          6.112037  \n",
      "-------\n",
      "\n",
      "Flyers\n",
      "                  Day  Temperature  Rainfall  Flyers  Price  Sales     Month  \\\n",
      "Date                                                                           \n",
      "2017-06-16     Friday         99.3      0.47      77    0.5     41      June   \n",
      "2017-06-20    Tuesday         85.1      0.54      70    0.5     37      June   \n",
      "2017-06-21  Wednesday         94.3      0.47      76    0.5     41      June   \n",
      "2017-07-02     Sunday         93.4      0.51      68    0.5    158      July   \n",
      "2017-07-03     Monday         81.5      0.54      68    0.5    235      July   \n",
      "2017-07-14     Friday         92.0      0.50      80    0.5     40      July   \n",
      "2017-07-18    Tuesday         99.3      0.47      76    0.5     41      July   \n",
      "2017-07-23     Sunday         89.1      0.51      72    0.5     37      July   \n",
      "2017-07-24     Monday         83.5      0.57      69    0.5     35      July   \n",
      "2017-07-27   Thursday         97.9      0.47      74    0.5     43      July   \n",
      "2017-11-21    Tuesday         47.0      0.95     -38    0.5     20  November   \n",
      "2017-12-05    Tuesday         22.0      1.82      11    0.5     10  December   \n",
      "2017-12-31     Sunday         15.1      2.50       9    0.5      7  December   \n",
      "\n",
      "            z_score_Temperature  z_score_Flyers  z_score_Rainfall  \n",
      "Date                                                               \n",
      "2017-06-16             2.105251        2.676244         -1.299691  \n",
      "2017-06-20             1.320109        2.168499         -1.044114  \n",
      "2017-06-21             1.828792        2.603709         -1.299691  \n",
      "2017-07-02             1.779030        2.023429         -1.153647  \n",
      "2017-07-03             1.121058        2.023429         -1.044114  \n",
      "2017-07-14             1.701621        2.893849         -1.190158  \n",
      "2017-07-18             2.105251        2.603709         -1.299691  \n",
      "2017-07-23             1.541275        2.313569         -1.153647  \n",
      "2017-07-24             1.231642        2.095964         -0.934581  \n",
      "2017-07-27             2.027843        2.458639         -1.299691  \n",
      "2017-11-21            -0.786506       -5.665283          0.452836  \n",
      "2017-12-05            -2.168799       -2.111067          3.629291  \n",
      "2017-12-31            -2.550311       -2.256137          6.112037  \n",
      "-------\n",
      "\n",
      "Rainfall\n",
      "                  Day  Temperature  Rainfall  Flyers  Price  Sales     Month  \\\n",
      "Date                                                                           \n",
      "2017-01-01     Sunday         27.0      2.00      15    0.5     10   January   \n",
      "2017-01-06     Friday         25.3      1.54      23    0.5     11   January   \n",
      "2017-01-07   Saturday         32.9      1.54      19    0.5     13   January   \n",
      "2017-01-11  Wednesday         32.6      1.54      23    0.5     12   January   \n",
      "2017-01-16     Monday         30.6      1.67      24    0.5     12   January   \n",
      "2017-01-17    Tuesday         32.2      1.43      26    0.5     14   January   \n",
      "2017-01-20     Friday         31.6      1.43      20    0.5     12   January   \n",
      "2017-01-24    Tuesday         28.6      1.54      20    0.5     12   January   \n",
      "2017-12-04     Monday         34.9      1.54      16    0.5     13  December   \n",
      "2017-12-05    Tuesday         22.0      1.82      11    0.5     10  December   \n",
      "2017-12-09   Saturday         31.2      1.43      19    0.5     14  December   \n",
      "2017-12-10     Sunday         31.3      1.82      15    0.5     11  December   \n",
      "2017-12-13  Wednesday         32.2      1.43      26    0.5     14  December   \n",
      "2017-12-14   Thursday         31.9      1.54      24    0.5     13  December   \n",
      "2017-12-18     Monday         30.9      1.43      27    0.5     13  December   \n",
      "2017-12-22     Friday         30.9      1.54      17    0.5     13  December   \n",
      "2017-12-26    Tuesday         28.9      1.43      23    0.5     13  December   \n",
      "2017-12-30   Saturday         30.9      1.43      22    0.5     13  December   \n",
      "2017-12-31     Sunday         15.1      2.50       9    0.5      7  December   \n",
      "\n",
      "            z_score_Temperature  z_score_Flyers  z_score_Rainfall  \n",
      "Date                                                               \n",
      "2017-01-01            -1.892340       -1.820927          4.286488  \n",
      "2017-01-06            -1.986336       -1.240647          2.606983  \n",
      "2017-01-07            -1.566119       -1.530787          2.606983  \n",
      "2017-01-11            -1.582706       -1.240647          2.606983  \n",
      "2017-01-16            -1.693290       -1.168112          3.081626  \n",
      "2017-01-17            -1.604823       -1.023042          2.205363  \n",
      "2017-01-20            -1.637998       -1.458252          2.205363  \n",
      "2017-01-24            -1.803873       -1.458252          2.606983  \n",
      "2017-12-04            -1.455535       -1.748392          2.606983  \n",
      "2017-12-05            -2.168799       -2.111067          3.629291  \n",
      "2017-12-09            -1.660115       -1.530787          2.205363  \n",
      "2017-12-10            -1.654586       -1.820927          3.629291  \n",
      "2017-12-13            -1.604823       -1.023042          2.205363  \n",
      "2017-12-14            -1.621411       -1.168112          2.606983  \n",
      "2017-12-18            -1.676702       -0.950507          2.205363  \n",
      "2017-12-22            -1.676702       -1.675857          2.606983  \n",
      "2017-12-26            -1.787286       -1.240647          2.205363  \n",
      "2017-12-30            -1.676702       -1.313182          2.205363  \n",
      "2017-12-31            -2.550311       -2.256137          6.112037  \n",
      "-------\n",
      "\n"
     ]
    }
   ],
   "source": [
    "# using 2 sigma\n",
    "\n",
    "for col in normal_cols:\n",
    "    df['z_score_'+ col] = (df[col] - df[col].mean()) / df[col].std()\n",
    "    print(col)\n",
    "    print(df[df['z_score_' + col].abs() > 2])\n",
    "    print('-------\\n')"
   ]
  },
  {
   "cell_type": "markdown",
   "metadata": {},
   "source": [
    "### Takeaways\n",
    "\n",
    "- z score very high for temperature on 2017-02-11 because of the very high temp that day\n",
    "- error seems really high for Rainfal on 2017-12-31\n",
    "    - Rainfall has a very high value on that day\n",
    "    - We can check that with context\n",
    "- flyers has a negative value that needs to be checked"
   ]
  },
  {
   "cell_type": "markdown",
   "metadata": {},
   "source": [
    "### 3. Now use a 3 sigma decision rule to isolate the outliers in the normally distributed columns from lemonade.csv"
   ]
  },
  {
   "cell_type": "code",
   "execution_count": 74,
   "metadata": {},
   "outputs": [
    {
     "name": "stdout",
     "output_type": "stream",
     "text": [
      "Temperature\n",
      "                 Day  Temperature  Rainfall  Flyers  Price  Sales     Month  \\\n",
      "Date                                                                          \n",
      "2017-02-11  Saturday        212.0      0.91      35    0.5     21  February   \n",
      "\n",
      "            z_score_Temperature  z_score_Flyers  z_score_Rainfall  \n",
      "Date                                                               \n",
      "2017-02-11             8.336627       -0.370227          0.306792  \n",
      "-------\n",
      "\n",
      "Flyers\n",
      "                Day  Temperature  Rainfall  Flyers  Price  Sales     Month  \\\n",
      "Date                                                                         \n",
      "2017-11-21  Tuesday         47.0      0.95     -38    0.5     20  November   \n",
      "\n",
      "            z_score_Temperature  z_score_Flyers  z_score_Rainfall  \n",
      "Date                                                               \n",
      "2017-11-21            -0.786506       -5.665283          0.452836  \n",
      "-------\n",
      "\n",
      "Rainfall\n",
      "                Day  Temperature  Rainfall  Flyers  Price  Sales     Month  \\\n",
      "Date                                                                         \n",
      "2017-01-01   Sunday         27.0      2.00      15    0.5     10   January   \n",
      "2017-01-16   Monday         30.6      1.67      24    0.5     12   January   \n",
      "2017-12-05  Tuesday         22.0      1.82      11    0.5     10  December   \n",
      "2017-12-10   Sunday         31.3      1.82      15    0.5     11  December   \n",
      "2017-12-31   Sunday         15.1      2.50       9    0.5      7  December   \n",
      "\n",
      "            z_score_Temperature  z_score_Flyers  z_score_Rainfall  \n",
      "Date                                                               \n",
      "2017-01-01            -1.892340       -1.820927          4.286488  \n",
      "2017-01-16            -1.693290       -1.168112          3.081626  \n",
      "2017-12-05            -2.168799       -2.111067          3.629291  \n",
      "2017-12-10            -1.654586       -1.820927          3.629291  \n",
      "2017-12-31            -2.550311       -2.256137          6.112037  \n",
      "-------\n",
      "\n"
     ]
    }
   ],
   "source": [
    "# using 3 sigma\n",
    "\n",
    "for col in normal_cols:\n",
    "    df['z_score_'+ col] = (df[col] - df[col].mean()) / df[col].std()\n",
    "    print(col)\n",
    "    print(df[df['z_score_' + col].abs() > 3])\n",
    "    print('-------\\n')"
   ]
  },
  {
   "cell_type": "markdown",
   "metadata": {},
   "source": [
    "### Takeaways \n",
    "\n",
    "- z score very high on 2017-02-11 due to the high temperature \n",
    "- z score high for flyer on 2017-11-21 due to the negative value "
   ]
  }
 ],
 "metadata": {
  "kernelspec": {
   "display_name": "Python 3",
   "language": "python",
   "name": "python3"
  },
  "language_info": {
   "codemirror_mode": {
    "name": "ipython",
    "version": 3
   },
   "file_extension": ".py",
   "mimetype": "text/x-python",
   "name": "python",
   "nbconvert_exporter": "python",
   "pygments_lexer": "ipython3",
   "version": "3.8.5"
  }
 },
 "nbformat": 4,
 "nbformat_minor": 4
}
